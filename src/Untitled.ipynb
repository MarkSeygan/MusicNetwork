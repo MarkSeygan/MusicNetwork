{
 "cells": [
  {
   "cell_type": "code",
   "execution_count": 36,
   "metadata": {
    "collapsed": false
   },
   "outputs": [],
   "source": [
    "def pickBestEnsemble(predicted_nr_of_notes, note_rank, ensemble_ligatures, ensembling_size):\n",
    "\tres_final_placeholder = [0] * 28\n",
    "\n",
    "\tfor i in range(predicted_nr_of_notes):\n",
    "\t\t# tady si davej bacha at proste jedes po maxech, ale potom az se bude i blizit konci tak at to z te jedne hladiny spravedlive random choicem rozdelim\n",
    "\t\tmax_rank = max(note_rank)\n",
    "\t\tmax_indices = [k for k, j in enumerate(note_rank) if j == max_rank]\n",
    "\n",
    "\t\t# there is more equally good candidates than we can possibly choose:\n",
    "\t\tif len(max_indices) > predicted_nr_of_notes - i:\n",
    "\t\t\t# choose them randomly\n",
    "\t\t\tfinal_indices = np.random.permutation(max_indices)[0:predicted_nr_of_notes - i]\n",
    "\t\t\tfor i in range(len(final_indices)):\n",
    "\t\t\t\tres_final_placeholder = add_note_and_ligature(res_final_placeholder, final_indices[i], ensemble_ligatures, ensembling_size)\n",
    "\t\t\tbreak\n",
    "\t\telse:\n",
    "\t\t\tselected_note_index = max_indices[0]\n",
    "\t\t\tres_final_placeholder = add_note_and_ligature(res_final_placeholder, selected_note_index, ensemble_ligatures, ensembling_size, note_rank)\n",
    "\t\t\tprint res_final_placeholder\n",
    "\treturn res_final_placeholder"
   ]
  },
  {
   "cell_type": "code",
   "execution_count": 41,
   "metadata": {
    "collapsed": false
   },
   "outputs": [],
   "source": [
    "def add_note_and_ligature(res_final, note_index, ensemble_ligatures, ensembling_size, note_rank=[]):\n",
    "    print note_index\n",
    "    result = res_final[:] #just a test, could be res_final\n",
    "    if len(note_rank) > 0:\n",
    "        note_rank[note_index] = 0\n",
    "    result[note_index * 2] = 1\n",
    "    ligature_choice = sum([ensemble[note_index] for ensemble in ensemble_ligatures])\n",
    "    result[note_index * 2 + 1] = int(ligature_choice > ensembling_size/2)\n",
    "    return result"
   ]
  },
  {
   "cell_type": "code",
   "execution_count": 42,
   "metadata": {
    "collapsed": false
   },
   "outputs": [
    {
     "name": "stdout",
     "output_type": "stream",
     "text": [
      "6\n",
      "[0, 0, 0, 0, 0, 0, 0, 0, 0, 0, 0, 0, 1, 0, 0, 0, 0, 0, 0, 0, 0, 0, 0, 0, 0, 0, 0, 0]\n",
      "4\n",
      "[0, 0, 0, 0, 0, 0, 0, 0, 1, 1, 0, 0, 1, 0, 0, 0, 0, 0, 0, 0, 0, 0, 0, 0, 0, 0, 0, 0]\n",
      "5\n",
      "[0, 0, 0, 0, 0, 0, 0, 0, 1, 1, 1, 0, 1, 0, 0, 0, 0, 0, 0, 0, 0, 0, 0, 0, 0, 0, 0, 0]\n",
      "3\n",
      "[0, 0, 0, 0, 0, 0, 1, 1, 1, 1, 1, 0, 1, 0, 0, 0, 0, 0, 0, 0, 0, 0, 0, 0, 0, 0, 0, 0]\n",
      "9\n",
      "[0, 0, 0, 0, 0, 0, 1, 1, 1, 1, 1, 0, 1, 0, 0, 0, 0, 0, 1, 1, 0, 0, 0, 0, 0, 0, 0, 0]\n",
      "11\n"
     ]
    },
    {
     "data": {
      "text/plain": [
       "[0,\n",
       " 0,\n",
       " 0,\n",
       " 0,\n",
       " 0,\n",
       " 0,\n",
       " 1,\n",
       " 1,\n",
       " 1,\n",
       " 1,\n",
       " 1,\n",
       " 0,\n",
       " 1,\n",
       " 0,\n",
       " 0,\n",
       " 0,\n",
       " 0,\n",
       " 0,\n",
       " 1,\n",
       " 1,\n",
       " 0,\n",
       " 0,\n",
       " 1,\n",
       " 1,\n",
       " 0,\n",
       " 0,\n",
       " 0,\n",
       " 0]"
      ]
     },
     "execution_count": 42,
     "metadata": {},
     "output_type": "execute_result"
    }
   ],
   "source": [
    "fst = 6\n",
    "sec = [0, 1, 1, 3, 5, 5, 6, 0, 0, 3, 2, 2, 1, 0 ]\n",
    "thrd = [[0, 1, 1, 1, 0, 1, 0, 0, 0, 1, 0, 0, 1, 0 ],[0, 1, 1, 0, 0, 0, 1, 0, 0, 0, 1, 0, 0, 0 ],[0, 1, 1, 0, 0, 1, 0, 0, 0, 1, 0, 0, 1, 0 ],[0, 1, 0, 1, 1, 0, 0, 0, 0, 1, 0, 1, 0, 0 ],[0, 1, 0, 1, 1, 0, 0, 0, 0, 1, 0, 1, 0, 0 ],[0, 1, 0, 1, 1, 0, 0, 0, 0, 1, 0, 1, 0, 0 ],[0, 1, 0, 1, 1, 0, 0, 0, 0, 1, 0, 1, 0, 0 ],[0, 1, 0, 1, 1, 0, 0, 0, 0, 1, 0, 1, 0, 0 ],[0, 1, 0, 1, 1, 0, 0, 0, 0, 1, 0, 1, 0, 0 ],[0, 1, 0, 1, 1, 0, 0, 0, 0, 1, 0, 1, 0, 0 ]]\n",
    "force = 10\n",
    "pickBestEnsemble(fst, sec, thrd, force)"
   ]
  },
  {
   "cell_type": "code",
   "execution_count": 28,
   "metadata": {
    "collapsed": true
   },
   "outputs": [],
   "source": [
    "import numpy as np\n"
   ]
  },
  {
   "cell_type": "code",
   "execution_count": null,
   "metadata": {
    "collapsed": true
   },
   "outputs": [],
   "source": []
  }
 ],
 "metadata": {
  "kernelspec": {
   "display_name": "Python 2",
   "language": "python",
   "name": "python2"
  },
  "language_info": {
   "codemirror_mode": {
    "name": "ipython",
    "version": 2
   },
   "file_extension": ".py",
   "mimetype": "text/x-python",
   "name": "python",
   "nbconvert_exporter": "python",
   "pygments_lexer": "ipython2",
   "version": "2.7.6"
  }
 },
 "nbformat": 4,
 "nbformat_minor": 2
}
